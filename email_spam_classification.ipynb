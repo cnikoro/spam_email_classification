{
 "cells": [
  {
   "cell_type": "code",
   "execution_count": 1,
   "id": "67286fbd",
   "metadata": {
    "_cell_guid": "b1076dfc-b9ad-4769-8c92-a6c4dae69d19",
    "_uuid": "8f2839f25d086af736a60e9eeb907d3b93b6e0e5",
    "execution": {
     "iopub.execute_input": "2022-12-26T20:30:47.492250Z",
     "iopub.status.busy": "2022-12-26T20:30:47.491285Z",
     "iopub.status.idle": "2022-12-26T20:30:47.513199Z",
     "shell.execute_reply": "2022-12-26T20:30:47.512154Z"
    },
    "papermill": {
     "duration": 0.040205,
     "end_time": "2022-12-26T20:30:47.515944",
     "exception": false,
     "start_time": "2022-12-26T20:30:47.475739",
     "status": "completed"
    },
    "tags": []
   },
   "outputs": [
    {
     "name": "stdout",
     "output_type": "stream",
     "text": [
      "/kaggle/input/email-spam-classification-dataset-csv/emails.csv\n"
     ]
    }
   ],
   "source": [
    "# This Python 3 environment comes with many helpful analytics libraries installed\n",
    "# It is defined by the kaggle/python Docker image: https://github.com/kaggle/docker-python\n",
    "# For example, here's several helpful packages to load\n",
    "\n",
    "import numpy as np # linear algebra\n",
    "import pandas as pd # data processing, CSV file I/O (e.g. pd.read_csv)\n",
    "\n",
    "# Input data files are available in the read-only \"../input/\" directory\n",
    "# For example, running this (by clicking run or pressing Shift+Enter) will list all files under the input directory\n",
    "\n",
    "import os\n",
    "for dirname, _, filenames in os.walk('/kaggle/input'):\n",
    "    for filename in filenames:\n",
    "        print(os.path.join(dirname, filename))\n",
    "\n",
    "# You can write up to 20GB to the current directory (/kaggle/working/) that gets preserved as output when you create a version using \"Save & Run All\" \n",
    "# You can also write temporary files to /kaggle/temp/, but they won't be saved outside of the current session"
   ]
  },
  {
   "cell_type": "markdown",
   "id": "8fa3f0db",
   "metadata": {
    "papermill": {
     "duration": 0.008116,
     "end_time": "2022-12-26T20:30:47.533004",
     "exception": false,
     "start_time": "2022-12-26T20:30:47.524888",
     "status": "completed"
    },
    "tags": []
   },
   "source": [
    "### Problem Statement\n",
    "\n",
    "<p>Unsolicited emails can be a great nuisance for several reasons, but two of them standout out of the crowd – storage and security. We only want to keep emails that we care about thereby optimizing our use of the limited storage provided by Email Service providers. Also, we want to avoid getting phishing emails and emails containing spywares or other malicious programs. Tracking spams manually can be difficult, but thanks to machine learning, this process can be automated.</p>\n",
    "\n",
    "<p>The aim of this project is to develop a machine learning model that would be able to determine if an email is a spam or not. This is a binary classification problem.</p>"
   ]
  },
  {
   "cell_type": "markdown",
   "id": "f8ca9773",
   "metadata": {
    "papermill": {
     "duration": 0.007644,
     "end_time": "2022-12-26T20:30:47.548797",
     "exception": false,
     "start_time": "2022-12-26T20:30:47.541153",
     "status": "completed"
    },
    "tags": []
   },
   "source": [
    "#### About the Dataset\n",
    "\n",
    "The dataset I would be using is the [Email Spam Classification Dataset](https://www.kaggle.com/datasets/balaka18/email-spam-classification-dataset-csv). Its a csv file that contains 5172 rows, each row for each email. There are 3002 columns. The first column indicates Email name. The name has been set with numbers and not recipients' name to protect privacy. The last column has the labels for prediction : 1 for spam, 0 for not spam. The remaining 3000 columns are the 3000 most common words in all the emails, after excluding the non-alphabetical characters/words. For each row, the count of each word(column) in that email(row) is stored in the respective cells."
   ]
  },
  {
   "cell_type": "markdown",
   "id": "5c13ba7d",
   "metadata": {
    "papermill": {
     "duration": 0.007576,
     "end_time": "2022-12-26T20:30:47.564380",
     "exception": false,
     "start_time": "2022-12-26T20:30:47.556804",
     "status": "completed"
    },
    "tags": []
   },
   "source": [
    "#### Exploratory Data Analysis\n",
    "\n",
    "Some of the features of the dataset are stop-words. I will drop them in the preprocessing stage since they don't have any impact on predictions. The only feature that's not an integer is the \"Email No.\" feature. Since they don't also have an impact on predictions, I will drop it as well. The EDA also reveals that the proportion of spam and not spam emails in the dataset are not equal. Therefore, the classification model will not assign equal weights to them."
   ]
  },
  {
   "cell_type": "code",
   "execution_count": 2,
   "id": "20a3b57c",
   "metadata": {
    "execution": {
     "iopub.execute_input": "2022-12-26T20:30:47.582875Z",
     "iopub.status.busy": "2022-12-26T20:30:47.582001Z",
     "iopub.status.idle": "2022-12-26T20:30:49.460642Z",
     "shell.execute_reply": "2022-12-26T20:30:49.459674Z"
    },
    "papermill": {
     "duration": 1.890991,
     "end_time": "2022-12-26T20:30:49.463341",
     "exception": false,
     "start_time": "2022-12-26T20:30:47.572350",
     "status": "completed"
    },
    "tags": []
   },
   "outputs": [],
   "source": [
    "import pandas as pd\n",
    "import numpy as np\n",
    "import matplotlib.pyplot as plt\n",
    "import seaborn as sns\n",
    "import nltk\n",
    "from nltk.corpus import stopwords"
   ]
  },
  {
   "cell_type": "markdown",
   "id": "4b2ad18e",
   "metadata": {
    "papermill": {
     "duration": 0.007444,
     "end_time": "2022-12-26T20:30:49.480298",
     "exception": false,
     "start_time": "2022-12-26T20:30:49.472854",
     "status": "completed"
    },
    "tags": []
   },
   "source": [
    "##### Read the data and check the first two rows"
   ]
  },
  {
   "cell_type": "code",
   "execution_count": 3,
   "id": "e8b2e5e4",
   "metadata": {
    "execution": {
     "iopub.execute_input": "2022-12-26T20:30:49.498092Z",
     "iopub.status.busy": "2022-12-26T20:30:49.497366Z",
     "iopub.status.idle": "2022-12-26T20:30:51.600896Z",
     "shell.execute_reply": "2022-12-26T20:30:51.599517Z"
    },
    "papermill": {
     "duration": 2.115121,
     "end_time": "2022-12-26T20:30:51.603268",
     "exception": false,
     "start_time": "2022-12-26T20:30:49.488147",
     "status": "completed"
    },
    "tags": []
   },
   "outputs": [
    {
     "data": {
      "text/html": [
       "<div>\n",
       "<style scoped>\n",
       "    .dataframe tbody tr th:only-of-type {\n",
       "        vertical-align: middle;\n",
       "    }\n",
       "\n",
       "    .dataframe tbody tr th {\n",
       "        vertical-align: top;\n",
       "    }\n",
       "\n",
       "    .dataframe thead th {\n",
       "        text-align: right;\n",
       "    }\n",
       "</style>\n",
       "<table border=\"1\" class=\"dataframe\">\n",
       "  <thead>\n",
       "    <tr style=\"text-align: right;\">\n",
       "      <th></th>\n",
       "      <th>Email No.</th>\n",
       "      <th>the</th>\n",
       "      <th>to</th>\n",
       "      <th>ect</th>\n",
       "      <th>and</th>\n",
       "      <th>for</th>\n",
       "      <th>of</th>\n",
       "      <th>a</th>\n",
       "      <th>you</th>\n",
       "      <th>hou</th>\n",
       "      <th>...</th>\n",
       "      <th>connevey</th>\n",
       "      <th>jay</th>\n",
       "      <th>valued</th>\n",
       "      <th>lay</th>\n",
       "      <th>infrastructure</th>\n",
       "      <th>military</th>\n",
       "      <th>allowing</th>\n",
       "      <th>ff</th>\n",
       "      <th>dry</th>\n",
       "      <th>Prediction</th>\n",
       "    </tr>\n",
       "  </thead>\n",
       "  <tbody>\n",
       "    <tr>\n",
       "      <th>0</th>\n",
       "      <td>Email 1</td>\n",
       "      <td>0</td>\n",
       "      <td>0</td>\n",
       "      <td>1</td>\n",
       "      <td>0</td>\n",
       "      <td>0</td>\n",
       "      <td>0</td>\n",
       "      <td>2</td>\n",
       "      <td>0</td>\n",
       "      <td>0</td>\n",
       "      <td>...</td>\n",
       "      <td>0</td>\n",
       "      <td>0</td>\n",
       "      <td>0</td>\n",
       "      <td>0</td>\n",
       "      <td>0</td>\n",
       "      <td>0</td>\n",
       "      <td>0</td>\n",
       "      <td>0</td>\n",
       "      <td>0</td>\n",
       "      <td>0</td>\n",
       "    </tr>\n",
       "    <tr>\n",
       "      <th>1</th>\n",
       "      <td>Email 2</td>\n",
       "      <td>8</td>\n",
       "      <td>13</td>\n",
       "      <td>24</td>\n",
       "      <td>6</td>\n",
       "      <td>6</td>\n",
       "      <td>2</td>\n",
       "      <td>102</td>\n",
       "      <td>1</td>\n",
       "      <td>27</td>\n",
       "      <td>...</td>\n",
       "      <td>0</td>\n",
       "      <td>0</td>\n",
       "      <td>0</td>\n",
       "      <td>0</td>\n",
       "      <td>0</td>\n",
       "      <td>0</td>\n",
       "      <td>0</td>\n",
       "      <td>1</td>\n",
       "      <td>0</td>\n",
       "      <td>0</td>\n",
       "    </tr>\n",
       "  </tbody>\n",
       "</table>\n",
       "<p>2 rows × 3002 columns</p>\n",
       "</div>"
      ],
      "text/plain": [
       "  Email No.  the  to  ect  and  for  of    a  you  hou  ...  connevey  jay  \\\n",
       "0   Email 1    0   0    1    0    0   0    2    0    0  ...         0    0   \n",
       "1   Email 2    8  13   24    6    6   2  102    1   27  ...         0    0   \n",
       "\n",
       "   valued  lay  infrastructure  military  allowing  ff  dry  Prediction  \n",
       "0       0    0               0         0         0   0    0           0  \n",
       "1       0    0               0         0         0   1    0           0  \n",
       "\n",
       "[2 rows x 3002 columns]"
      ]
     },
     "execution_count": 3,
     "metadata": {},
     "output_type": "execute_result"
    }
   ],
   "source": [
    "# read the data\n",
    "emails = pd.read_csv(\n",
    "    '/kaggle/input/email-spam-classification-dataset-csv/emails.csv')\n",
    "\n",
    "# top 2 rows\n",
    "emails.head(2)"
   ]
  },
  {
   "cell_type": "code",
   "execution_count": 4,
   "id": "12c919c8",
   "metadata": {
    "execution": {
     "iopub.execute_input": "2022-12-26T20:30:51.621237Z",
     "iopub.status.busy": "2022-12-26T20:30:51.620841Z",
     "iopub.status.idle": "2022-12-26T20:30:51.627776Z",
     "shell.execute_reply": "2022-12-26T20:30:51.626723Z"
    },
    "papermill": {
     "duration": 0.018582,
     "end_time": "2022-12-26T20:30:51.630107",
     "exception": false,
     "start_time": "2022-12-26T20:30:51.611525",
     "status": "completed"
    },
    "tags": []
   },
   "outputs": [
    {
     "data": {
      "text/plain": [
       "(5172, 3002)"
      ]
     },
     "execution_count": 4,
     "metadata": {},
     "output_type": "execute_result"
    }
   ],
   "source": [
    "emails.shape"
   ]
  },
  {
   "cell_type": "markdown",
   "id": "c17a4753",
   "metadata": {
    "papermill": {
     "duration": 0.008439,
     "end_time": "2022-12-26T20:30:51.647242",
     "exception": false,
     "start_time": "2022-12-26T20:30:51.638803",
     "status": "completed"
    },
    "tags": []
   },
   "source": [
    "##### Summary statistics of numeric columns"
   ]
  },
  {
   "cell_type": "code",
   "execution_count": 5,
   "id": "d85aaca8",
   "metadata": {
    "execution": {
     "iopub.execute_input": "2022-12-26T20:30:51.665845Z",
     "iopub.status.busy": "2022-12-26T20:30:51.665430Z",
     "iopub.status.idle": "2022-12-26T20:30:57.999765Z",
     "shell.execute_reply": "2022-12-26T20:30:57.998626Z"
    },
    "papermill": {
     "duration": 6.346592,
     "end_time": "2022-12-26T20:30:58.002350",
     "exception": false,
     "start_time": "2022-12-26T20:30:51.655758",
     "status": "completed"
    },
    "tags": []
   },
   "outputs": [
    {
     "data": {
      "text/html": [
       "<div>\n",
       "<style scoped>\n",
       "    .dataframe tbody tr th:only-of-type {\n",
       "        vertical-align: middle;\n",
       "    }\n",
       "\n",
       "    .dataframe tbody tr th {\n",
       "        vertical-align: top;\n",
       "    }\n",
       "\n",
       "    .dataframe thead th {\n",
       "        text-align: right;\n",
       "    }\n",
       "</style>\n",
       "<table border=\"1\" class=\"dataframe\">\n",
       "  <thead>\n",
       "    <tr style=\"text-align: right;\">\n",
       "      <th></th>\n",
       "      <th>the</th>\n",
       "      <th>to</th>\n",
       "      <th>ect</th>\n",
       "      <th>and</th>\n",
       "      <th>for</th>\n",
       "      <th>of</th>\n",
       "      <th>a</th>\n",
       "      <th>you</th>\n",
       "      <th>hou</th>\n",
       "      <th>in</th>\n",
       "      <th>...</th>\n",
       "      <th>connevey</th>\n",
       "      <th>jay</th>\n",
       "      <th>valued</th>\n",
       "      <th>lay</th>\n",
       "      <th>infrastructure</th>\n",
       "      <th>military</th>\n",
       "      <th>allowing</th>\n",
       "      <th>ff</th>\n",
       "      <th>dry</th>\n",
       "      <th>Prediction</th>\n",
       "    </tr>\n",
       "  </thead>\n",
       "  <tbody>\n",
       "    <tr>\n",
       "      <th>count</th>\n",
       "      <td>5172.000000</td>\n",
       "      <td>5172.000000</td>\n",
       "      <td>5172.000000</td>\n",
       "      <td>5172.000000</td>\n",
       "      <td>5172.000000</td>\n",
       "      <td>5172.000000</td>\n",
       "      <td>5172.000000</td>\n",
       "      <td>5172.000000</td>\n",
       "      <td>5172.000000</td>\n",
       "      <td>5172.000000</td>\n",
       "      <td>...</td>\n",
       "      <td>5172.000000</td>\n",
       "      <td>5172.000000</td>\n",
       "      <td>5172.000000</td>\n",
       "      <td>5172.000000</td>\n",
       "      <td>5172.000000</td>\n",
       "      <td>5172.000000</td>\n",
       "      <td>5172.000000</td>\n",
       "      <td>5172.000000</td>\n",
       "      <td>5172.000000</td>\n",
       "      <td>5172.000000</td>\n",
       "    </tr>\n",
       "    <tr>\n",
       "      <th>mean</th>\n",
       "      <td>6.640565</td>\n",
       "      <td>6.188128</td>\n",
       "      <td>5.143852</td>\n",
       "      <td>3.075599</td>\n",
       "      <td>3.124710</td>\n",
       "      <td>2.627030</td>\n",
       "      <td>55.517401</td>\n",
       "      <td>2.466551</td>\n",
       "      <td>2.024362</td>\n",
       "      <td>10.600155</td>\n",
       "      <td>...</td>\n",
       "      <td>0.005027</td>\n",
       "      <td>0.012568</td>\n",
       "      <td>0.010634</td>\n",
       "      <td>0.098028</td>\n",
       "      <td>0.004254</td>\n",
       "      <td>0.006574</td>\n",
       "      <td>0.004060</td>\n",
       "      <td>0.914733</td>\n",
       "      <td>0.006961</td>\n",
       "      <td>0.290023</td>\n",
       "    </tr>\n",
       "    <tr>\n",
       "      <th>std</th>\n",
       "      <td>11.745009</td>\n",
       "      <td>9.534576</td>\n",
       "      <td>14.101142</td>\n",
       "      <td>6.045970</td>\n",
       "      <td>4.680522</td>\n",
       "      <td>6.229845</td>\n",
       "      <td>87.574172</td>\n",
       "      <td>4.314444</td>\n",
       "      <td>6.967878</td>\n",
       "      <td>19.281892</td>\n",
       "      <td>...</td>\n",
       "      <td>0.105788</td>\n",
       "      <td>0.199682</td>\n",
       "      <td>0.116693</td>\n",
       "      <td>0.569532</td>\n",
       "      <td>0.096252</td>\n",
       "      <td>0.138908</td>\n",
       "      <td>0.072145</td>\n",
       "      <td>2.780203</td>\n",
       "      <td>0.098086</td>\n",
       "      <td>0.453817</td>\n",
       "    </tr>\n",
       "    <tr>\n",
       "      <th>min</th>\n",
       "      <td>0.000000</td>\n",
       "      <td>0.000000</td>\n",
       "      <td>1.000000</td>\n",
       "      <td>0.000000</td>\n",
       "      <td>0.000000</td>\n",
       "      <td>0.000000</td>\n",
       "      <td>0.000000</td>\n",
       "      <td>0.000000</td>\n",
       "      <td>0.000000</td>\n",
       "      <td>0.000000</td>\n",
       "      <td>...</td>\n",
       "      <td>0.000000</td>\n",
       "      <td>0.000000</td>\n",
       "      <td>0.000000</td>\n",
       "      <td>0.000000</td>\n",
       "      <td>0.000000</td>\n",
       "      <td>0.000000</td>\n",
       "      <td>0.000000</td>\n",
       "      <td>0.000000</td>\n",
       "      <td>0.000000</td>\n",
       "      <td>0.000000</td>\n",
       "    </tr>\n",
       "    <tr>\n",
       "      <th>25%</th>\n",
       "      <td>0.000000</td>\n",
       "      <td>1.000000</td>\n",
       "      <td>1.000000</td>\n",
       "      <td>0.000000</td>\n",
       "      <td>1.000000</td>\n",
       "      <td>0.000000</td>\n",
       "      <td>12.000000</td>\n",
       "      <td>0.000000</td>\n",
       "      <td>0.000000</td>\n",
       "      <td>1.000000</td>\n",
       "      <td>...</td>\n",
       "      <td>0.000000</td>\n",
       "      <td>0.000000</td>\n",
       "      <td>0.000000</td>\n",
       "      <td>0.000000</td>\n",
       "      <td>0.000000</td>\n",
       "      <td>0.000000</td>\n",
       "      <td>0.000000</td>\n",
       "      <td>0.000000</td>\n",
       "      <td>0.000000</td>\n",
       "      <td>0.000000</td>\n",
       "    </tr>\n",
       "    <tr>\n",
       "      <th>50%</th>\n",
       "      <td>3.000000</td>\n",
       "      <td>3.000000</td>\n",
       "      <td>1.000000</td>\n",
       "      <td>1.000000</td>\n",
       "      <td>2.000000</td>\n",
       "      <td>1.000000</td>\n",
       "      <td>28.000000</td>\n",
       "      <td>1.000000</td>\n",
       "      <td>0.000000</td>\n",
       "      <td>5.000000</td>\n",
       "      <td>...</td>\n",
       "      <td>0.000000</td>\n",
       "      <td>0.000000</td>\n",
       "      <td>0.000000</td>\n",
       "      <td>0.000000</td>\n",
       "      <td>0.000000</td>\n",
       "      <td>0.000000</td>\n",
       "      <td>0.000000</td>\n",
       "      <td>0.000000</td>\n",
       "      <td>0.000000</td>\n",
       "      <td>0.000000</td>\n",
       "    </tr>\n",
       "    <tr>\n",
       "      <th>75%</th>\n",
       "      <td>8.000000</td>\n",
       "      <td>7.000000</td>\n",
       "      <td>4.000000</td>\n",
       "      <td>3.000000</td>\n",
       "      <td>4.000000</td>\n",
       "      <td>2.000000</td>\n",
       "      <td>62.250000</td>\n",
       "      <td>3.000000</td>\n",
       "      <td>1.000000</td>\n",
       "      <td>12.000000</td>\n",
       "      <td>...</td>\n",
       "      <td>0.000000</td>\n",
       "      <td>0.000000</td>\n",
       "      <td>0.000000</td>\n",
       "      <td>0.000000</td>\n",
       "      <td>0.000000</td>\n",
       "      <td>0.000000</td>\n",
       "      <td>0.000000</td>\n",
       "      <td>1.000000</td>\n",
       "      <td>0.000000</td>\n",
       "      <td>1.000000</td>\n",
       "    </tr>\n",
       "    <tr>\n",
       "      <th>max</th>\n",
       "      <td>210.000000</td>\n",
       "      <td>132.000000</td>\n",
       "      <td>344.000000</td>\n",
       "      <td>89.000000</td>\n",
       "      <td>47.000000</td>\n",
       "      <td>77.000000</td>\n",
       "      <td>1898.000000</td>\n",
       "      <td>70.000000</td>\n",
       "      <td>167.000000</td>\n",
       "      <td>223.000000</td>\n",
       "      <td>...</td>\n",
       "      <td>4.000000</td>\n",
       "      <td>7.000000</td>\n",
       "      <td>2.000000</td>\n",
       "      <td>12.000000</td>\n",
       "      <td>3.000000</td>\n",
       "      <td>4.000000</td>\n",
       "      <td>3.000000</td>\n",
       "      <td>114.000000</td>\n",
       "      <td>4.000000</td>\n",
       "      <td>1.000000</td>\n",
       "    </tr>\n",
       "  </tbody>\n",
       "</table>\n",
       "<p>8 rows × 3001 columns</p>\n",
       "</div>"
      ],
      "text/plain": [
       "               the           to          ect          and          for  \\\n",
       "count  5172.000000  5172.000000  5172.000000  5172.000000  5172.000000   \n",
       "mean      6.640565     6.188128     5.143852     3.075599     3.124710   \n",
       "std      11.745009     9.534576    14.101142     6.045970     4.680522   \n",
       "min       0.000000     0.000000     1.000000     0.000000     0.000000   \n",
       "25%       0.000000     1.000000     1.000000     0.000000     1.000000   \n",
       "50%       3.000000     3.000000     1.000000     1.000000     2.000000   \n",
       "75%       8.000000     7.000000     4.000000     3.000000     4.000000   \n",
       "max     210.000000   132.000000   344.000000    89.000000    47.000000   \n",
       "\n",
       "                of            a          you          hou           in  ...  \\\n",
       "count  5172.000000  5172.000000  5172.000000  5172.000000  5172.000000  ...   \n",
       "mean      2.627030    55.517401     2.466551     2.024362    10.600155  ...   \n",
       "std       6.229845    87.574172     4.314444     6.967878    19.281892  ...   \n",
       "min       0.000000     0.000000     0.000000     0.000000     0.000000  ...   \n",
       "25%       0.000000    12.000000     0.000000     0.000000     1.000000  ...   \n",
       "50%       1.000000    28.000000     1.000000     0.000000     5.000000  ...   \n",
       "75%       2.000000    62.250000     3.000000     1.000000    12.000000  ...   \n",
       "max      77.000000  1898.000000    70.000000   167.000000   223.000000  ...   \n",
       "\n",
       "          connevey          jay       valued          lay  infrastructure  \\\n",
       "count  5172.000000  5172.000000  5172.000000  5172.000000     5172.000000   \n",
       "mean      0.005027     0.012568     0.010634     0.098028        0.004254   \n",
       "std       0.105788     0.199682     0.116693     0.569532        0.096252   \n",
       "min       0.000000     0.000000     0.000000     0.000000        0.000000   \n",
       "25%       0.000000     0.000000     0.000000     0.000000        0.000000   \n",
       "50%       0.000000     0.000000     0.000000     0.000000        0.000000   \n",
       "75%       0.000000     0.000000     0.000000     0.000000        0.000000   \n",
       "max       4.000000     7.000000     2.000000    12.000000        3.000000   \n",
       "\n",
       "          military     allowing           ff          dry   Prediction  \n",
       "count  5172.000000  5172.000000  5172.000000  5172.000000  5172.000000  \n",
       "mean      0.006574     0.004060     0.914733     0.006961     0.290023  \n",
       "std       0.138908     0.072145     2.780203     0.098086     0.453817  \n",
       "min       0.000000     0.000000     0.000000     0.000000     0.000000  \n",
       "25%       0.000000     0.000000     0.000000     0.000000     0.000000  \n",
       "50%       0.000000     0.000000     0.000000     0.000000     0.000000  \n",
       "75%       0.000000     0.000000     1.000000     0.000000     1.000000  \n",
       "max       4.000000     3.000000   114.000000     4.000000     1.000000  \n",
       "\n",
       "[8 rows x 3001 columns]"
      ]
     },
     "execution_count": 5,
     "metadata": {},
     "output_type": "execute_result"
    }
   ],
   "source": [
    "emails.describe()"
   ]
  },
  {
   "cell_type": "markdown",
   "id": "9bded7b2",
   "metadata": {
    "papermill": {
     "duration": 0.008538,
     "end_time": "2022-12-26T20:30:58.020108",
     "exception": false,
     "start_time": "2022-12-26T20:30:58.011570",
     "status": "completed"
    },
    "tags": []
   },
   "source": [
    "##### Check features that are stopwords"
   ]
  },
  {
   "cell_type": "code",
   "execution_count": 6,
   "id": "2f8721a2",
   "metadata": {
    "execution": {
     "iopub.execute_input": "2022-12-26T20:30:58.040780Z",
     "iopub.status.busy": "2022-12-26T20:30:58.039995Z",
     "iopub.status.idle": "2022-12-26T20:30:58.193230Z",
     "shell.execute_reply": "2022-12-26T20:30:58.191830Z"
    },
    "papermill": {
     "duration": 0.166779,
     "end_time": "2022-12-26T20:30:58.196177",
     "exception": false,
     "start_time": "2022-12-26T20:30:58.029398",
     "status": "completed"
    },
    "tags": []
   },
   "outputs": [
    {
     "name": "stderr",
     "output_type": "stream",
     "text": [
      "[nltk_data] Downloading package stopwords to /usr/share/nltk_data...\n",
      "[nltk_data]   Package stopwords is already up-to-date!\n"
     ]
    },
    {
     "data": {
      "text/plain": [
       "True"
      ]
     },
     "execution_count": 6,
     "metadata": {},
     "output_type": "execute_result"
    }
   ],
   "source": [
    "# download stopwords\n",
    "nltk.download('stopwords')"
   ]
  },
  {
   "cell_type": "code",
   "execution_count": 7,
   "id": "d643b2d1",
   "metadata": {
    "execution": {
     "iopub.execute_input": "2022-12-26T20:30:58.217887Z",
     "iopub.status.busy": "2022-12-26T20:30:58.216748Z",
     "iopub.status.idle": "2022-12-26T20:30:58.228102Z",
     "shell.execute_reply": "2022-12-26T20:30:58.226981Z"
    },
    "papermill": {
     "duration": 0.024957,
     "end_time": "2022-12-26T20:30:58.230944",
     "exception": false,
     "start_time": "2022-12-26T20:30:58.205987",
     "status": "completed"
    },
    "tags": []
   },
   "outputs": [
    {
     "data": {
      "text/plain": [
       "Index(['the', 'to', 'and', 'for', 'of', 'a', 'you', 'in', 'on', 'is',\n",
       "       ...\n",
       "       'nor', 'myself', 'isn', 'haven', 'whom', 'couldn', 'wasn', 'itself',\n",
       "       'ma', 'aren'],\n",
       "      dtype='object', length=134)"
      ]
     },
     "execution_count": 7,
     "metadata": {},
     "output_type": "execute_result"
    }
   ],
   "source": [
    "# get columns that are stopwords\n",
    "\n",
    "is_a_stopword = emails.columns.isin(stopwords.words('english'))\n",
    "emails.columns[is_a_stopword]"
   ]
  },
  {
   "cell_type": "markdown",
   "id": "26d24af4",
   "metadata": {
    "papermill": {
     "duration": 0.009126,
     "end_time": "2022-12-26T20:30:58.250460",
     "exception": false,
     "start_time": "2022-12-26T20:30:58.241334",
     "status": "completed"
    },
    "tags": []
   },
   "source": [
    "##### Get columns that are not integers"
   ]
  },
  {
   "cell_type": "code",
   "execution_count": 8,
   "id": "524cd4f7",
   "metadata": {
    "execution": {
     "iopub.execute_input": "2022-12-26T20:30:58.272173Z",
     "iopub.status.busy": "2022-12-26T20:30:58.271759Z",
     "iopub.status.idle": "2022-12-26T20:30:58.285394Z",
     "shell.execute_reply": "2022-12-26T20:30:58.284221Z"
    },
    "papermill": {
     "duration": 0.027644,
     "end_time": "2022-12-26T20:30:58.288016",
     "exception": false,
     "start_time": "2022-12-26T20:30:58.260372",
     "status": "completed"
    },
    "tags": []
   },
   "outputs": [
    {
     "data": {
      "text/html": [
       "<div>\n",
       "<style scoped>\n",
       "    .dataframe tbody tr th:only-of-type {\n",
       "        vertical-align: middle;\n",
       "    }\n",
       "\n",
       "    .dataframe tbody tr th {\n",
       "        vertical-align: top;\n",
       "    }\n",
       "\n",
       "    .dataframe thead th {\n",
       "        text-align: right;\n",
       "    }\n",
       "</style>\n",
       "<table border=\"1\" class=\"dataframe\">\n",
       "  <thead>\n",
       "    <tr style=\"text-align: right;\">\n",
       "      <th></th>\n",
       "      <th>Email No.</th>\n",
       "    </tr>\n",
       "  </thead>\n",
       "  <tbody>\n",
       "    <tr>\n",
       "      <th>0</th>\n",
       "      <td>Email 1</td>\n",
       "    </tr>\n",
       "    <tr>\n",
       "      <th>1</th>\n",
       "      <td>Email 2</td>\n",
       "    </tr>\n",
       "    <tr>\n",
       "      <th>2</th>\n",
       "      <td>Email 3</td>\n",
       "    </tr>\n",
       "    <tr>\n",
       "      <th>3</th>\n",
       "      <td>Email 4</td>\n",
       "    </tr>\n",
       "    <tr>\n",
       "      <th>4</th>\n",
       "      <td>Email 5</td>\n",
       "    </tr>\n",
       "  </tbody>\n",
       "</table>\n",
       "</div>"
      ],
      "text/plain": [
       "  Email No.\n",
       "0   Email 1\n",
       "1   Email 2\n",
       "2   Email 3\n",
       "3   Email 4\n",
       "4   Email 5"
      ]
     },
     "execution_count": 8,
     "metadata": {},
     "output_type": "execute_result"
    }
   ],
   "source": [
    "# select non-integer features\n",
    "emails.select_dtypes(include=['object', 'bool', 'float', 'category']).head()"
   ]
  },
  {
   "cell_type": "markdown",
   "id": "c2c269a9",
   "metadata": {
    "papermill": {
     "duration": 0.009429,
     "end_time": "2022-12-26T20:30:58.307353",
     "exception": false,
     "start_time": "2022-12-26T20:30:58.297924",
     "status": "completed"
    },
    "tags": []
   },
   "source": [
    "##### Check for duplicate and missing values"
   ]
  },
  {
   "cell_type": "code",
   "execution_count": 9,
   "id": "78bf2109",
   "metadata": {
    "execution": {
     "iopub.execute_input": "2022-12-26T20:30:58.329670Z",
     "iopub.status.busy": "2022-12-26T20:30:58.329205Z",
     "iopub.status.idle": "2022-12-26T20:30:58.370694Z",
     "shell.execute_reply": "2022-12-26T20:30:58.369364Z"
    },
    "papermill": {
     "duration": 0.056033,
     "end_time": "2022-12-26T20:30:58.373773",
     "exception": false,
     "start_time": "2022-12-26T20:30:58.317740",
     "status": "completed"
    },
    "tags": []
   },
   "outputs": [
    {
     "data": {
      "text/plain": [
       "Email No.     0\n",
       "the           0\n",
       "to            0\n",
       "ect           0\n",
       "and           0\n",
       "             ..\n",
       "military      0\n",
       "allowing      0\n",
       "ff            0\n",
       "dry           0\n",
       "Prediction    0\n",
       "Length: 3002, dtype: int64"
      ]
     },
     "execution_count": 9,
     "metadata": {},
     "output_type": "execute_result"
    }
   ],
   "source": [
    "# check for missing values\n",
    "emails.isna().sum()"
   ]
  },
  {
   "cell_type": "code",
   "execution_count": 10,
   "id": "daa0a7d5",
   "metadata": {
    "execution": {
     "iopub.execute_input": "2022-12-26T20:30:58.396150Z",
     "iopub.status.busy": "2022-12-26T20:30:58.395640Z",
     "iopub.status.idle": "2022-12-26T20:30:58.988107Z",
     "shell.execute_reply": "2022-12-26T20:30:58.986456Z"
    },
    "papermill": {
     "duration": 0.607511,
     "end_time": "2022-12-26T20:30:58.991211",
     "exception": false,
     "start_time": "2022-12-26T20:30:58.383700",
     "status": "completed"
    },
    "tags": []
   },
   "outputs": [
    {
     "data": {
      "text/plain": [
       "0"
      ]
     },
     "execution_count": 10,
     "metadata": {},
     "output_type": "execute_result"
    }
   ],
   "source": [
    "# check for duplicates\n",
    "\n",
    "emails.duplicated().sum()"
   ]
  },
  {
   "cell_type": "markdown",
   "id": "b0a63b1a",
   "metadata": {
    "papermill": {
     "duration": 0.009314,
     "end_time": "2022-12-26T20:30:59.010332",
     "exception": false,
     "start_time": "2022-12-26T20:30:59.001018",
     "status": "completed"
    },
    "tags": []
   },
   "source": [
    "##### Comparing the number of emails that are spam and not spam"
   ]
  },
  {
   "cell_type": "code",
   "execution_count": 11,
   "id": "0a24fab7",
   "metadata": {
    "execution": {
     "iopub.execute_input": "2022-12-26T20:30:59.031563Z",
     "iopub.status.busy": "2022-12-26T20:30:59.031095Z",
     "iopub.status.idle": "2022-12-26T20:30:59.243373Z",
     "shell.execute_reply": "2022-12-26T20:30:59.242216Z"
    },
    "papermill": {
     "duration": 0.226104,
     "end_time": "2022-12-26T20:30:59.245989",
     "exception": false,
     "start_time": "2022-12-26T20:30:59.019885",
     "status": "completed"
    },
    "tags": []
   },
   "outputs": [
    {
     "data": {
      "image/png": "[encoded data removed]",
      "text/plain": [
       "<Figure size 432x288 with 1 Axes>"
      ]
     },
     "metadata": {
      "needs_background": "light"
     },
     "output_type": "display_data"
    }
   ],
   "source": [
    "# count plot of the Prediction column\n",
    "\n",
    "sns.countplot(data=emails, x='Prediction', color=sns.color_palette()[0])\n",
    "\n",
    "plt.show();"
   ]
  },
  {
   "cell_type": "markdown",
   "id": "ad98ccd9",
   "metadata": {
    "papermill": {
     "duration": 0.009144,
     "end_time": "2022-12-26T20:30:59.264924",
     "exception": false,
     "start_time": "2022-12-26T20:30:59.255780",
     "status": "completed"
    },
    "tags": []
   },
   "source": [
    "#### Preprocessing\n",
    "\n",
    "I dropped the \"Email No.\" column and all columns that are stop words. The \"Prediction\" column is saved in the target variable `y` while the other columns is saved in the features variable `X`. The dataset is also split into $70\\%$ train and $30\\%$ test sets. I will also standardize the train set."
   ]
  },
  {
   "cell_type": "code",
   "execution_count": 12,
   "id": "7056b37f",
   "metadata": {
    "execution": {
     "iopub.execute_input": "2022-12-26T20:30:59.286227Z",
     "iopub.status.busy": "2022-12-26T20:30:59.285245Z",
     "iopub.status.idle": "2022-12-26T20:30:59.290983Z",
     "shell.execute_reply": "2022-12-26T20:30:59.290200Z"
    },
    "papermill": {
     "duration": 0.018822,
     "end_time": "2022-12-26T20:30:59.293160",
     "exception": false,
     "start_time": "2022-12-26T20:30:59.274338",
     "status": "completed"
    },
    "tags": []
   },
   "outputs": [],
   "source": [
    "from sklearn.model_selection import train_test_split\n",
    "from sklearn.preprocessing import MinMaxScaler"
   ]
  },
  {
   "cell_type": "code",
   "execution_count": 13,
   "id": "97ca0e1d",
   "metadata": {
    "execution": {
     "iopub.execute_input": "2022-12-26T20:30:59.314664Z",
     "iopub.status.busy": "2022-12-26T20:30:59.313514Z",
     "iopub.status.idle": "2022-12-26T20:30:59.425503Z",
     "shell.execute_reply": "2022-12-26T20:30:59.424418Z"
    },
    "papermill": {
     "duration": 0.125528,
     "end_time": "2022-12-26T20:30:59.428298",
     "exception": false,
     "start_time": "2022-12-26T20:30:59.302770",
     "status": "completed"
    },
    "tags": []
   },
   "outputs": [
    {
     "data": {
      "text/plain": [
       "(5172, 2868)"
      ]
     },
     "execution_count": 13,
     "metadata": {},
     "output_type": "execute_result"
    }
   ],
   "source": [
    "# remove all stop words\n",
    "\n",
    "no_stop_words = emails.loc[:, ~is_a_stopword].copy()\n",
    "\n",
    "no_stop_words.shape"
   ]
  },
  {
   "cell_type": "code",
   "execution_count": 14,
   "id": "d3ed7a9e",
   "metadata": {
    "execution": {
     "iopub.execute_input": "2022-12-26T20:30:59.450198Z",
     "iopub.status.busy": "2022-12-26T20:30:59.449540Z",
     "iopub.status.idle": "2022-12-26T20:30:59.492158Z",
     "shell.execute_reply": "2022-12-26T20:30:59.491032Z"
    },
    "papermill": {
     "duration": 0.056442,
     "end_time": "2022-12-26T20:30:59.494768",
     "exception": false,
     "start_time": "2022-12-26T20:30:59.438326",
     "status": "completed"
    },
    "tags": []
   },
   "outputs": [],
   "source": [
    "# drop \"Email No.\"\n",
    "\n",
    "no_stop_words.drop(columns=\"Email No.\", inplace=True)"
   ]
  },
  {
   "cell_type": "code",
   "execution_count": 15,
   "id": "7eb26237",
   "metadata": {
    "execution": {
     "iopub.execute_input": "2022-12-26T20:30:59.515854Z",
     "iopub.status.busy": "2022-12-26T20:30:59.515446Z",
     "iopub.status.idle": "2022-12-26T20:30:59.679914Z",
     "shell.execute_reply": "2022-12-26T20:30:59.678233Z"
    },
    "papermill": {
     "duration": 0.177809,
     "end_time": "2022-12-26T20:30:59.682313",
     "exception": false,
     "start_time": "2022-12-26T20:30:59.504504",
     "status": "completed"
    },
    "tags": []
   },
   "outputs": [
    {
     "name": "stdout",
     "output_type": "stream",
     "text": [
      "train set: (3620, 2866) (3620,)\n",
      "test set: (1552, 2866) (1552,)\n"
     ]
    }
   ],
   "source": [
    "# split dataset to train and test sets\n",
    "\n",
    "X = no_stop_words.drop(columns=\"Prediction\")\n",
    "y = no_stop_words['Prediction']\n",
    "\n",
    "X_train, X_test, y_train, y_test = \\\n",
    "train_test_split(X, y, train_size=0.7, random_state=7, stratify=y)\n",
    "\n",
    "print(\"train set:\", X_train.shape, y_train.shape)\n",
    "print(\"test set:\", X_test.shape, y_test.shape)"
   ]
  },
  {
   "cell_type": "code",
   "execution_count": 16,
   "id": "aa0f6619",
   "metadata": {
    "execution": {
     "iopub.execute_input": "2022-12-26T20:30:59.703525Z",
     "iopub.status.busy": "2022-12-26T20:30:59.703124Z",
     "iopub.status.idle": "2022-12-26T20:30:59.972448Z",
     "shell.execute_reply": "2022-12-26T20:30:59.971161Z"
    },
    "papermill": {
     "duration": 0.283133,
     "end_time": "2022-12-26T20:30:59.975407",
     "exception": false,
     "start_time": "2022-12-26T20:30:59.692274",
     "status": "completed"
    },
    "tags": []
   },
   "outputs": [],
   "source": [
    "# scale the X_train set\n",
    "\n",
    "scaler = MinMaxScaler()\n",
    "scaler.fit(X_train)\n",
    "\n",
    "X_train_scaled = scaler.fit_transform(X_train)"
   ]
  },
  {
   "cell_type": "markdown",
   "id": "76c97482",
   "metadata": {
    "papermill": {
     "duration": 0.009467,
     "end_time": "2022-12-26T20:30:59.994777",
     "exception": false,
     "start_time": "2022-12-26T20:30:59.985310",
     "status": "completed"
    },
    "tags": []
   },
   "source": [
    "##### Model Training\n",
    "\n",
    "Since this is a binary classification problem, I will be training and evaluating a classification model. I chose to use **Logistic Regression** as my base model because it is a simple model that's easy to interpret. I chose **Random Forest** as my secondary model because it is less sensitive to outliers."
   ]
  },
  {
   "cell_type": "code",
   "execution_count": 17,
   "id": "f9abaf4f",
   "metadata": {
    "execution": {
     "iopub.execute_input": "2022-12-26T20:31:00.017180Z",
     "iopub.status.busy": "2022-12-26T20:31:00.016436Z",
     "iopub.status.idle": "2022-12-26T20:31:00.147862Z",
     "shell.execute_reply": "2022-12-26T20:31:00.146833Z"
    },
    "papermill": {
     "duration": 0.14592,
     "end_time": "2022-12-26T20:31:00.150608",
     "exception": false,
     "start_time": "2022-12-26T20:31:00.004688",
     "status": "completed"
    },
    "tags": []
   },
   "outputs": [],
   "source": [
    "from sklearn.linear_model import LogisticRegression\n",
    "from sklearn.ensemble import RandomForestClassifier\n",
    "from sklearn.model_selection import GridSearchCV, RandomizedSearchCV"
   ]
  },
  {
   "cell_type": "code",
   "execution_count": 18,
   "id": "c323e5e8",
   "metadata": {
    "execution": {
     "iopub.execute_input": "2022-12-26T20:31:00.171881Z",
     "iopub.status.busy": "2022-12-26T20:31:00.171458Z",
     "iopub.status.idle": "2022-12-26T20:31:30.457566Z",
     "shell.execute_reply": "2022-12-26T20:31:30.455645Z"
    },
    "papermill": {
     "duration": 30.302549,
     "end_time": "2022-12-26T20:31:30.463080",
     "exception": false,
     "start_time": "2022-12-26T20:31:00.160531",
     "status": "completed"
    },
    "tags": []
   },
   "outputs": [],
   "source": [
    "# perform logistic regression grid search\n",
    "\n",
    "params = {'class_weight': ['balanced'],\n",
    "          'solver': ['lbfgs', 'newton-cg'],\n",
    "          'penalty': ['l2'],\n",
    "          'C': [1, 0.1, 0.01, 0.001, 0.0001]}\n",
    "\n",
    "log_reg = LogisticRegression()\n",
    "\n",
    "lg_search_grid = GridSearchCV(log_reg, params,\n",
    "                             scoring = 'precision')\n",
    "lg_search_grid.fit(X_train_scaled, y_train)\n",
    "lg_estimator = lg_search_grid.best_estimator_"
   ]
  },
  {
   "cell_type": "code",
   "execution_count": 19,
   "id": "a9ed0c4e",
   "metadata": {
    "execution": {
     "iopub.execute_input": "2022-12-26T20:31:30.517155Z",
     "iopub.status.busy": "2022-12-26T20:31:30.516263Z",
     "iopub.status.idle": "2022-12-26T20:31:30.532524Z",
     "shell.execute_reply": "2022-12-26T20:31:30.530990Z"
    },
    "papermill": {
     "duration": 0.047385,
     "end_time": "2022-12-26T20:31:30.537126",
     "exception": false,
     "start_time": "2022-12-26T20:31:30.489741",
     "status": "completed"
    },
    "tags": []
   },
   "outputs": [
    {
     "data": {
      "text/plain": [
       "0.8818171877484404"
      ]
     },
     "execution_count": 19,
     "metadata": {},
     "output_type": "execute_result"
    }
   ],
   "source": [
    "# best score for logistic regression\n",
    "\n",
    "lg_search_grid.best_score_"
   ]
  },
  {
   "cell_type": "code",
   "execution_count": 20,
   "id": "c762ab79",
   "metadata": {
    "execution": {
     "iopub.execute_input": "2022-12-26T20:31:30.580821Z",
     "iopub.status.busy": "2022-12-26T20:31:30.580409Z",
     "iopub.status.idle": "2022-12-26T20:33:31.906074Z",
     "shell.execute_reply": "2022-12-26T20:33:31.905015Z"
    },
    "papermill": {
     "duration": 121.34684,
     "end_time": "2022-12-26T20:33:31.908990",
     "exception": false,
     "start_time": "2022-12-26T20:31:30.562150",
     "status": "completed"
    },
    "tags": []
   },
   "outputs": [],
   "source": [
    "# perform random forest grid search\n",
    "\n",
    "params = {'class_weight': ['balanced'], 'random_state': [7],\n",
    "         'n_estimators': [50,100,150,200], \n",
    "          'max_depth': [None, 50, 100]}\n",
    "\n",
    "rf = RandomForestClassifier()\n",
    "\n",
    "rf_search_grid = RandomizedSearchCV(rf, params, \n",
    "                                    scoring='precision',\n",
    "                                    random_state=10)\n",
    "rf_search_grid.fit(X_train_scaled, y_train)\n",
    "rf_estimator = rf_search_grid.best_estimator_"
   ]
  },
  {
   "cell_type": "code",
   "execution_count": 21,
   "id": "bc7c476a",
   "metadata": {
    "execution": {
     "iopub.execute_input": "2022-12-26T20:33:31.931444Z",
     "iopub.status.busy": "2022-12-26T20:33:31.931072Z",
     "iopub.status.idle": "2022-12-26T20:33:31.937831Z",
     "shell.execute_reply": "2022-12-26T20:33:31.936748Z"
    },
    "papermill": {
     "duration": 0.020391,
     "end_time": "2022-12-26T20:33:31.939968",
     "exception": false,
     "start_time": "2022-12-26T20:33:31.919577",
     "status": "completed"
    },
    "tags": []
   },
   "outputs": [
    {
     "data": {
      "text/plain": [
       "0.9398110683109918"
      ]
     },
     "execution_count": 21,
     "metadata": {},
     "output_type": "execute_result"
    }
   ],
   "source": [
    "# best precision score for random forest\n",
    "\n",
    "rf_search_grid.best_score_"
   ]
  },
  {
   "cell_type": "markdown",
   "id": "3a349cb1",
   "metadata": {
    "papermill": {
     "duration": 0.009457,
     "end_time": "2022-12-26T20:33:31.959469",
     "exception": false,
     "start_time": "2022-12-26T20:33:31.950012",
     "status": "completed"
    },
    "tags": []
   },
   "source": [
    "##### Model Evaluation\n",
    "\n",
    "I chose the **precision** metric because we want a model that correctly classifies spam emails with few false positives. We want to reduce cases where an email that's not a spam is incorrectly classified as one by the model.\n",
    "\n",
    "From the classification report, the Random Forest model out performs the Logistic Regression model – the former has a $64\\%$ precision score while the later has a $99\\%$ precision score on the test set. The report also shows that the Random Forest model generalizes better compared to the Logistic Regression model since it is not sufferring from overfitting."
   ]
  },
  {
   "cell_type": "code",
   "execution_count": 22,
   "id": "fbc74e5b",
   "metadata": {
    "execution": {
     "iopub.execute_input": "2022-12-26T20:33:31.980766Z",
     "iopub.status.busy": "2022-12-26T20:33:31.980312Z",
     "iopub.status.idle": "2022-12-26T20:33:31.984937Z",
     "shell.execute_reply": "2022-12-26T20:33:31.984032Z"
    },
    "papermill": {
     "duration": 0.017652,
     "end_time": "2022-12-26T20:33:31.986942",
     "exception": false,
     "start_time": "2022-12-26T20:33:31.969290",
     "status": "completed"
    },
    "tags": []
   },
   "outputs": [],
   "source": [
    "from sklearn.metrics import classification_report"
   ]
  },
  {
   "cell_type": "code",
   "execution_count": 23,
   "id": "30da5061",
   "metadata": {
    "execution": {
     "iopub.execute_input": "2022-12-26T20:33:32.009306Z",
     "iopub.status.busy": "2022-12-26T20:33:32.008163Z",
     "iopub.status.idle": "2022-12-26T20:33:32.074322Z",
     "shell.execute_reply": "2022-12-26T20:33:32.073177Z"
    },
    "papermill": {
     "duration": 0.084423,
     "end_time": "2022-12-26T20:33:32.081249",
     "exception": false,
     "start_time": "2022-12-26T20:33:31.996826",
     "status": "completed"
    },
    "tags": []
   },
   "outputs": [
    {
     "name": "stdout",
     "output_type": "stream",
     "text": [
      "              precision    recall  f1-score   support\n",
      "\n",
      "           0       1.00      0.77      0.87      1102\n",
      "           1       0.64      0.99      0.78       450\n",
      "\n",
      "    accuracy                           0.84      1552\n",
      "   macro avg       0.82      0.88      0.83      1552\n",
      "weighted avg       0.89      0.84      0.84      1552\n",
      "\n"
     ]
    },
    {
     "name": "stderr",
     "output_type": "stream",
     "text": [
      "/opt/conda/lib/python3.7/site-packages/sklearn/base.py:444: UserWarning: X has feature names, but LogisticRegression was fitted without feature names\n",
      "  f\"X has feature names, but {self.__class__.__name__} was fitted without\"\n"
     ]
    }
   ],
   "source": [
    "# classification report on logistic regression\n",
    "\n",
    "y_pred_lg = lg_estimator.predict(X_test)\n",
    "\n",
    "print(classification_report(y_test, y_pred_lg))"
   ]
  },
  {
   "cell_type": "code",
   "execution_count": 24,
   "id": "9591f1e7",
   "metadata": {
    "execution": {
     "iopub.execute_input": "2022-12-26T20:33:32.135904Z",
     "iopub.status.busy": "2022-12-26T20:33:32.135138Z",
     "iopub.status.idle": "2022-12-26T20:33:32.274519Z",
     "shell.execute_reply": "2022-12-26T20:33:32.273290Z"
    },
    "papermill": {
     "duration": 0.170603,
     "end_time": "2022-12-26T20:33:32.277829",
     "exception": false,
     "start_time": "2022-12-26T20:33:32.107226",
     "status": "completed"
    },
    "tags": []
   },
   "outputs": [
    {
     "name": "stderr",
     "output_type": "stream",
     "text": [
      "/opt/conda/lib/python3.7/site-packages/sklearn/base.py:444: UserWarning: X has feature names, but RandomForestClassifier was fitted without feature names\n",
      "  f\"X has feature names, but {self.__class__.__name__} was fitted without\"\n"
     ]
    },
    {
     "name": "stdout",
     "output_type": "stream",
     "text": [
      "              precision    recall  f1-score   support\n",
      "\n",
      "           0       0.87      1.00      0.93      1102\n",
      "           1       0.99      0.65      0.78       450\n",
      "\n",
      "    accuracy                           0.90      1552\n",
      "   macro avg       0.93      0.82      0.86      1552\n",
      "weighted avg       0.91      0.90      0.89      1552\n",
      "\n"
     ]
    }
   ],
   "source": [
    "# classification report on random forest\n",
    "\n",
    "y_pred_rf = rf_estimator.predict(X_test)\n",
    "print(classification_report(y_test, y_pred_rf))"
   ]
  }
 ],
 "metadata": {
  "kernelspec": {
   "display_name": "Python 3",
   "language": "python",
   "name": "python3"
  },
  "language_info": {
   "codemirror_mode": {
    "name": "ipython",
    "version": 3
   },
   "file_extension": ".py",
   "mimetype": "text/x-python",
   "name": "python",
   "nbconvert_exporter": "python",
   "pygments_lexer": "ipython3",
   "version": "3.7.12"
  },
  "papermill": {
   "default_parameters": {},
   "duration": 174.34139,
   "end_time": "2022-12-26T20:33:33.111210",
   "environment_variables": {},
   "exception": null,
   "input_path": "__notebook__.ipynb",
   "output_path": "__notebook__.ipynb",
   "parameters": {},
   "start_time": "2022-12-26T20:30:38.769820",
   "version": "2.3.4"
  }
 },
 "nbformat": 4,
 "nbformat_minor": 5
}
